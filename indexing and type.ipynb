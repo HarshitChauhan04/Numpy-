{
 "cells": [
  {
   "cell_type": "code",
   "execution_count": 1,
   "id": "654b67ba-98e6-4e85-bed2-8ba2faea729e",
   "metadata": {},
   "outputs": [
    {
     "name": "stdout",
     "output_type": "stream",
     "text": [
      "[[ 2  3]\n",
      " [ 6  7]\n",
      " [10 11]]\n"
     ]
    }
   ],
   "source": [
    "import numpy as np\n",
    "a=np.array([[1,2,3,4],[5,6,7,8],[9,10,11,12]])\n",
    "print(a[0:3,1:3])\n"
   ]
  },
  {
   "cell_type": "code",
   "execution_count": 19,
   "id": "82b09eeb-6040-4326-9a61-e5919e1b4be7",
   "metadata": {},
   "outputs": [
    {
     "name": "stdout",
     "output_type": "stream",
     "text": [
      "[[[ 1  2  3  4]\n",
      "  [ 5  6  7  8]\n",
      "  [ 9 10 11 12]]]\n"
     ]
    }
   ],
   "source": [
    "a1=np.array([\n",
    "    [[1,2,3,4],[5,6,7,8],[9,10,11,12]],\n",
    "    [[13,14,15,16],[17,18,19,20],[21,22,23,24]],\n",
    "    [[25,25,27,28],[29,30,31,32],[33,34,35,36]]\n",
    "])\n",
    "print(a1[0:1])\n",
    "    "
   ]
  },
  {
   "cell_type": "code",
   "execution_count": 20,
   "id": "93837a54-bf40-45bd-8a5e-b4544c42be2a",
   "metadata": {},
   "outputs": [
    {
     "name": "stdout",
     "output_type": "stream",
     "text": [
      "<U32\n"
     ]
    }
   ],
   "source": [
    "a2=np.array([\"Hello\",10,4.5])\n",
    "print(a2.dtype)"
   ]
  },
  {
   "cell_type": "code",
   "execution_count": 23,
   "id": "ed430468-2f57-4689-8a8d-34ac91922f8b",
   "metadata": {},
   "outputs": [
    {
     "name": "stdout",
     "output_type": "stream",
     "text": [
      "[1. 2. 3. 4.] float32\n"
     ]
    }
   ],
   "source": [
    "a3=np.array([1,2,3,4],dtype=\"f\")\n",
    "print(a3,a3.dtype)            \n"
   ]
  },
  {
   "cell_type": "code",
   "execution_count": 24,
   "id": "2c96e6cc-b596-477b-8a8a-2c7b24d3a937",
   "metadata": {},
   "outputs": [
    {
     "name": "stdout",
     "output_type": "stream",
     "text": [
      "[ True  True  True False  True] bool\n"
     ]
    }
   ],
   "source": [
    "a=np.array([1,2,3,0,4],dtype=\"bool\")\n",
    "print(a,a.dtype)"
   ]
  },
  {
   "cell_type": "code",
   "execution_count": 26,
   "id": "96704822-e591-4c20-bddc-4143ceeadd65",
   "metadata": {},
   "outputs": [
    {
     "name": "stdout",
     "output_type": "stream",
     "text": [
      "[1 2 3 4] int32\n"
     ]
    }
   ],
   "source": [
    "a=np.array([1.,2.,3.,4.])\n",
    "b=a.astype(\"i\")\n",
    "print(b,b.dtype)"
   ]
  },
  {
   "cell_type": "markdown",
   "id": "eeac1547-9652-443b-b678-4682972cf685",
   "metadata": {},
   "source": [
    "# Slicing"
   ]
  },
  {
   "cell_type": "code",
   "execution_count": 3,
   "id": "7eedc740-2d53-4da0-aeb7-a4b8b5f06ddf",
   "metadata": {},
   "outputs": [
    {
     "name": "stdout",
     "output_type": "stream",
     "text": [
      "[113  15  19]\n"
     ]
    }
   ],
   "source": [
    "a=np.array([113,15,19,20,50,100,200])\n",
    "print(a[0:3])"
   ]
  },
  {
   "cell_type": "code",
   "execution_count": 6,
   "id": "c161b2c0-6480-4786-a384-2c0e74108735",
   "metadata": {},
   "outputs": [
    {
     "name": "stdout",
     "output_type": "stream",
     "text": [
      "[7 8 9]\n"
     ]
    }
   ],
   "source": [
    "a=np.array([  [1,2,3,4,5],  [6,7,8,9,10] ]) \n",
    "print(a[1,1:4]) # 0 index--1,2,3,4,5   and 1 index----6,7,8,9,10  "
   ]
  },
  {
   "cell_type": "code",
   "execution_count": 15,
   "id": "1b16412c-eec4-4f6b-84aa-8a0c63b35a97",
   "metadata": {},
   "outputs": [
    {
     "name": "stdout",
     "output_type": "stream",
     "text": [
      "[3 8]\n"
     ]
    }
   ],
   "source": [
    "#print(a[0:2,1:4]) # 0:2---0,1 block and 1:4--2,3,4 and 7,8,9\n",
    "print(a[0:2,2])"
   ]
  },
  {
   "cell_type": "code",
   "execution_count": 20,
   "id": "9712f6ae-57b2-4538-8e42-734d266798a2",
   "metadata": {},
   "outputs": [
    {
     "name": "stdout",
     "output_type": "stream",
     "text": [
      "[[ 2  3]\n",
      " [ 6  7]\n",
      " [10 11]]\n"
     ]
    }
   ],
   "source": [
    "a=np.array([[1,2,3,4],[5,6,7,8],[9,10,11,12]])\n",
    "# output :[[2,3],\n",
    "#          [6,7],\n",
    "#         [10,11]\n",
    "print(a[0:,1:3]) "
   ]
  },
  {
   "cell_type": "code",
   "execution_count": 28,
   "id": "a9196865-b594-48b9-9b2d-3f06e1367d48",
   "metadata": {},
   "outputs": [],
   "source": [
    "a=np.array([\n",
    "    [[1,2,3,4],[5,6,7,8],[9,10,11,12]], # 0--0,1,2\n",
    "    [[13,14,15,16],[17,18,19,20],[21,22,23,24]], #1--0,1,2\n",
    "    [[25,26,27,28],[29,30,31,32],[33,34,35,36]] #2--0,1,2\n",
    "])  \n"
   ]
  },
  {
   "cell_type": "code",
   "execution_count": null,
   "id": "49042cea-b3bb-43a9-9101-67f02132d16f",
   "metadata": {},
   "outputs": [],
   "source": [
    "# output [[1 2 3 4 ],\n",
    "#         [5,6,7,8]\n",
    "#      [9,10,11,12]]"
   ]
  },
  {
   "cell_type": "code",
   "execution_count": 31,
   "id": "adf2f9a8-95e7-43c4-b0e3-04a33bc7eb0b",
   "metadata": {},
   "outputs": [
    {
     "name": "stdout",
     "output_type": "stream",
     "text": [
      "7\n"
     ]
    }
   ],
   "source": [
    "#print(a[0,:])\n",
    "print(a[0,1,2]) # [0,1,2] her 2 value----is 1 box and 2 element\n"
   ]
  },
  {
   "cell_type": "code",
   "execution_count": 33,
   "id": "9489748c-3f7f-443a-a960-f82eff42f674",
   "metadata": {},
   "outputs": [
    {
     "data": {
      "text/plain": [
       "array([  1, 100,   3,   4])"
      ]
     },
     "execution_count": 33,
     "metadata": {},
     "output_type": "execute_result"
    }
   ],
   "source": [
    "# copy: copy of the object/array changes made in copy will not reflect in original\n",
    "# view: shares the data     changes made in view will in original\n",
    "a=np.array([1,2,3,4])\n",
    "b=a.copy()\n",
    "b\n",
    "b[1]=100 #[1,100,3,4]"
   ]
  },
  {
   "cell_type": "code",
   "execution_count": 40,
   "id": "0ee6a789-7a39-49f9-8ec4-d295b6bb7063",
   "metadata": {},
   "outputs": [
    {
     "name": "stdout",
     "output_type": "stream",
     "text": [
      "[  1 100   3   4]\n",
      "[  1 100   3   4]\n"
     ]
    }
   ],
   "source": [
    "a=np.array([1,2,3,4])\n",
    "b=a.view()\n",
    "b\n",
    "b[1]=100\n",
    "print(b)\n",
    "print(a)"
   ]
  },
  {
   "cell_type": "code",
   "execution_count": 41,
   "id": "5ca15dfe-7302-42fd-abe3-b64ada603297",
   "metadata": {},
   "outputs": [
    {
     "data": {
      "text/plain": [
       "array([ 1,  2,  3,  4,  5,  6,  7,  8,  9, 10])"
      ]
     },
     "execution_count": 41,
     "metadata": {},
     "output_type": "execute_result"
    }
   ],
   "source": [
    "# reshape\n",
    "a=np.array([[1,2,3,4,5],[6,7,8,9,10]])\n",
    "a=a.reshape(-1)#convert into 1D\n",
    "a"
   ]
  },
  {
   "cell_type": "markdown",
   "id": "889b7128-c2a7-44ff-a2ce-1824d23e360c",
   "metadata": {},
   "source": [
    "# Search"
   ]
  },
  {
   "cell_type": "code",
   "execution_count": 47,
   "id": "20e453fa-0481-4bd3-b9d6-81e101cbb6b7",
   "metadata": {},
   "outputs": [
    {
     "name": "stdout",
     "output_type": "stream",
     "text": [
      "[2 4 6]\n"
     ]
    }
   ],
   "source": [
    "a=np.array([1,2,3,4,5,6]) #[2,4,6]\n",
    "x=np.where(a%2==0)\n",
    "print(a[x])"
   ]
  },
  {
   "cell_type": "code",
   "execution_count": 48,
   "id": "65010471-f56b-4d37-a196-e85f36884219",
   "metadata": {},
   "outputs": [],
   "source": [
    "# odd find out"
   ]
  },
  {
   "cell_type": "markdown",
   "id": "4ee6b331-1dce-47d9-b15f-e8d51dd19f75",
   "metadata": {},
   "source": [
    "# Sort the Array"
   ]
  },
  {
   "cell_type": "code",
   "execution_count": 49,
   "id": "25252a8c-eb23-4de9-8ec0-6761a3bd401d",
   "metadata": {},
   "outputs": [
    {
     "name": "stdout",
     "output_type": "stream",
     "text": [
      "[18 19 20 22 60 89]\n"
     ]
    }
   ],
   "source": [
    "a=np.array([18,19,20,22,89,60])\n",
    "print(np.sort(a))"
   ]
  },
  {
   "cell_type": "code",
   "execution_count": 51,
   "id": "68632ad0-451c-43ed-8c28-ba231e983652",
   "metadata": {},
   "outputs": [
    {
     "data": {
      "text/plain": [
       "array([89, 60, 22, 20, 19, 18])"
      ]
     },
     "execution_count": 51,
     "metadata": {},
     "output_type": "execute_result"
    }
   ],
   "source": [
    "#decsending Sort\n",
    "np.sort(a)[::-1]"
   ]
  },
  {
   "cell_type": "code",
   "execution_count": 55,
   "id": "d385a4f9-efcc-4a89-b08f-a6fb9db8d0c3",
   "metadata": {},
   "outputs": [
    {
     "data": {
      "text/plain": [
       "'olleh'"
      ]
     },
     "execution_count": 55,
     "metadata": {},
     "output_type": "execute_result"
    }
   ],
   "source": [
    "a='hello'\n",
    "a[::-1]"
   ]
  },
  {
   "cell_type": "code",
   "execution_count": null,
   "id": "5331b677-ca55-4746-83ff-f76a30e974eb",
   "metadata": {},
   "outputs": [],
   "source": []
  }
 ],
 "metadata": {
  "kernelspec": {
   "display_name": "Python 3 (ipykernel)",
   "language": "python",
   "name": "python3"
  },
  "language_info": {
   "codemirror_mode": {
    "name": "ipython",
    "version": 3
   },
   "file_extension": ".py",
   "mimetype": "text/x-python",
   "name": "python",
   "nbconvert_exporter": "python",
   "pygments_lexer": "ipython3",
   "version": "3.12.5"
  }
 },
 "nbformat": 4,
 "nbformat_minor": 5
}
