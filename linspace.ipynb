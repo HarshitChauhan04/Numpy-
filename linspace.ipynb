{
 "cells": [
  {
   "cell_type": "markdown",
   "id": "d79f5d2c-39ed-4345-9f92-c14f29f97883",
   "metadata": {},
   "source": [
    "# Linspace"
   ]
  },
  {
   "cell_type": "code",
   "execution_count": 2,
   "id": "03b553ae-2a50-4221-8b9b-78b5c20e1a8c",
   "metadata": {},
   "outputs": [],
   "source": [
    "import numpy as np"
   ]
  },
  {
   "cell_type": "code",
   "execution_count": 4,
   "id": "92c02eb4-209f-4353-b093-7221e5fabe6a",
   "metadata": {},
   "outputs": [
    {
     "data": {
      "text/plain": [
       "array([1. , 1.8, 2.6, 3.4, 4.2, 5. ])"
      ]
     },
     "execution_count": 4,
     "metadata": {},
     "output_type": "execute_result"
    }
   ],
   "source": [
    "a=np.linspace(1,5,6)\n",
    "a"
   ]
  },
  {
   "cell_type": "code",
   "execution_count": 5,
   "id": "186b96ca-a605-4f41-bae6-cea3a772690a",
   "metadata": {},
   "outputs": [
    {
     "data": {
      "text/plain": [
       "(array([1. , 1.8, 2.6, 3.4, 4.2, 5. ]), np.float64(0.8))"
      ]
     },
     "execution_count": 5,
     "metadata": {},
     "output_type": "execute_result"
    }
   ],
   "source": [
    "a=np.linspace(1,5,6,retstep=True) #retstep=Gap\n",
    "a"
   ]
  },
  {
   "cell_type": "code",
   "execution_count": 6,
   "id": "d532fddd-259e-48e7-9fbd-ea50396a9a55",
   "metadata": {},
   "outputs": [
    {
     "data": {
      "text/plain": [
       "(array([1.        , 1.66666667, 2.33333333, 3.        , 3.66666667,\n",
       "        4.33333333]),\n",
       " np.float64(0.6666666666666666))"
      ]
     },
     "execution_count": 6,
     "metadata": {},
     "output_type": "execute_result"
    }
   ],
   "source": [
    "a=np.linspace(1,5,6,retstep=True,endpoint=False)\n",
    "a"
   ]
  },
  {
   "cell_type": "markdown",
   "id": "d0b97952-769d-43f4-b991-17575a89756c",
   "metadata": {},
   "source": [
    "# Diagonal Matrics"
   ]
  },
  {
   "cell_type": "code",
   "execution_count": 7,
   "id": "835981b2-849c-493d-8c7c-dc3ddb1fd74d",
   "metadata": {},
   "outputs": [
    {
     "data": {
      "text/plain": [
       "array([[1., 0., 0.],\n",
       "       [0., 1., 0.],\n",
       "       [0., 0., 1.]])"
      ]
     },
     "execution_count": 7,
     "metadata": {},
     "output_type": "execute_result"
    }
   ],
   "source": [
    "a=np.eye(3)\n",
    "a"
   ]
  },
  {
   "cell_type": "code",
   "execution_count": 8,
   "id": "5ddfb58c-9cff-40d5-887a-c40f694f5536",
   "metadata": {},
   "outputs": [
    {
     "data": {
      "text/plain": [
       "array([[1., 0., 0.],\n",
       "       [0., 1., 0.],\n",
       "       [0., 0., 1.]])"
      ]
     },
     "execution_count": 8,
     "metadata": {},
     "output_type": "execute_result"
    }
   ],
   "source": [
    "a=np.identity(3)\n",
    "a"
   ]
  },
  {
   "cell_type": "code",
   "execution_count": 10,
   "id": "e14d87a3-582a-4004-9575-3675045a13c9",
   "metadata": {},
   "outputs": [
    {
     "data": {
      "text/plain": [
       "array([[1, 0, 0],\n",
       "       [0, 4, 0],\n",
       "       [0, 0, 3]])"
      ]
     },
     "execution_count": 10,
     "metadata": {},
     "output_type": "execute_result"
    }
   ],
   "source": [
    "a=np.diag([1,4,3])\n",
    "a"
   ]
  },
  {
   "cell_type": "markdown",
   "id": "6ba92ed5-7e96-4ef6-b191-cd468b8e8ce0",
   "metadata": {},
   "source": [
    "# Join array"
   ]
  },
  {
   "cell_type": "code",
   "execution_count": 17,
   "id": "be1d661f-1e33-4882-8097-f40b7b8c4f0b",
   "metadata": {},
   "outputs": [
    {
     "name": "stdout",
     "output_type": "stream",
     "text": [
      "[1 2 3 4 5 6 7 8]\n"
     ]
    }
   ],
   "source": [
    "a=np.array([1,2,3,4])\n",
    "b=np.array([5,6,7,8])\n",
    "#c=np.concatenate((a,b)) #single line 1D\n",
    "#print(np.stack((a,b))) #up down stack form 2D\n",
    "print(np.hstack((a,b))) #output like 1D"
   ]
  },
  {
   "cell_type": "code",
   "execution_count": 21,
   "id": "9cdc147d-428f-4ecf-8136-a953266ea6c2",
   "metadata": {},
   "outputs": [
    {
     "name": "stdout",
     "output_type": "stream",
     "text": [
      "[[1 2]\n",
      " [3 4]\n",
      " [5 6]\n",
      " [7 8]]\n"
     ]
    }
   ],
   "source": [
    "a=np.array([[1,2],[3,4]])\n",
    "b=np.array([[5,6],[7,8]])\n",
    "print(np.concatenate((a,b),axis=0))"
   ]
  },
  {
   "cell_type": "code",
   "execution_count": 22,
   "id": "8ec99af2-474c-488f-a571-154c78d2def8",
   "metadata": {},
   "outputs": [
    {
     "name": "stdout",
     "output_type": "stream",
     "text": [
      "[[1 2 5 6]\n",
      " [3 4 7 8]]\n"
     ]
    }
   ],
   "source": [
    "a=np.array([[1,2],[3,4]])\n",
    "b=np.array([[5,6],[7,8]])\n",
    "print(np.concatenate((a,b),axis=1))"
   ]
  },
  {
   "cell_type": "code",
   "execution_count": 23,
   "id": "f8fa8e17-b3ec-4c41-bf2a-af7f8886ad1d",
   "metadata": {},
   "outputs": [
    {
     "name": "stdout",
     "output_type": "stream",
     "text": [
      "[[1 2 5 6]\n",
      " [3 4 7 8]]\n"
     ]
    }
   ],
   "source": [
    "a=np.array([[1,2],[3,4]])\n",
    "b=np.array([[5,6],[7,8]])\n",
    "print(np.hstack((a,b)))"
   ]
  },
  {
   "cell_type": "code",
   "execution_count": 24,
   "id": "008a43eb-b830-43ef-a227-9a524b56c59b",
   "metadata": {},
   "outputs": [
    {
     "name": "stdout",
     "output_type": "stream",
     "text": [
      "[[1 2]\n",
      " [3 4]\n",
      " [5 6]\n",
      " [7 8]]\n"
     ]
    }
   ],
   "source": [
    "a=np.array([[1,2],[3,4]])\n",
    "b=np.array([[5,6],[7,8]])\n",
    "print(np.vstack((a,b)))"
   ]
  },
  {
   "cell_type": "code",
   "execution_count": 29,
   "id": "0a562fa4-22a1-4187-9d42-41be99d5a580",
   "metadata": {},
   "outputs": [
    {
     "name": "stdout",
     "output_type": "stream",
     "text": [
      "[[[1 2]\n",
      "  [3 4]]\n",
      "\n",
      " [[5 6]\n",
      "  [7 8]]]\n"
     ]
    }
   ],
   "source": [
    "a=np.array([[[1,2],[3,4]]])\n",
    "b=np.array([[[5,6],[7,8]]])\n",
    "print(np.concatenate((a,b),axis=0))"
   ]
  },
  {
   "cell_type": "code",
   "execution_count": 30,
   "id": "5ccbd691-faa9-463e-a67f-da723819c616",
   "metadata": {},
   "outputs": [
    {
     "name": "stdout",
     "output_type": "stream",
     "text": [
      "[[[1 2 5 6]\n",
      "  [3 4 7 8]]]\n"
     ]
    }
   ],
   "source": [
    "a=np.array([[[1,2],[3,4]]])\n",
    "b=np.array([[[5,6],[7,8]]])\n",
    "print(np.dstack((a,b)))"
   ]
  },
  {
   "cell_type": "markdown",
   "id": "1d618019-a41b-4f31-9f28-94addfa03b4e",
   "metadata": {},
   "source": [
    "# Insert Delete Append"
   ]
  },
  {
   "cell_type": "code",
   "execution_count": 31,
   "id": "3dc80b40-88f9-4bbb-a882-0721e5531bf9",
   "metadata": {},
   "outputs": [
    {
     "data": {
      "text/plain": [
       "array([1, 2, 3, 4, 5])"
      ]
     },
     "execution_count": 31,
     "metadata": {},
     "output_type": "execute_result"
    }
   ],
   "source": [
    "a=np.array([1,2,4,5]) #2nd index---3value\n",
    "a=np.insert(a,2,3) #a=variable,2=index,3=value\n",
    "a"
   ]
  },
  {
   "cell_type": "code",
   "execution_count": 32,
   "id": "624ef047-2562-4fe7-885a-48326e523501",
   "metadata": {},
   "outputs": [
    {
     "data": {
      "text/plain": [
       "array([1, 2, 4, 5, 6])"
      ]
     },
     "execution_count": 32,
     "metadata": {},
     "output_type": "execute_result"
    }
   ],
   "source": [
    "a=np.array([1,2,4,5])\n",
    "a=np.append(a,6)  #adds the value in last\n",
    "a"
   ]
  },
  {
   "cell_type": "code",
   "execution_count": 34,
   "id": "e98224ae-41c8-4a2d-87b2-aca7b69ac08b",
   "metadata": {},
   "outputs": [
    {
     "data": {
      "text/plain": [
       "array([1, 2, 5])"
      ]
     },
     "execution_count": 34,
     "metadata": {},
     "output_type": "execute_result"
    }
   ],
   "source": [
    "a=np.array([1,2,4,5])\n",
    "a=np.delete(a,2)\n",
    "a"
   ]
  },
  {
   "cell_type": "markdown",
   "id": "d0751d41-0c0c-46cd-8d47-63c338d6ac0c",
   "metadata": {},
   "source": [
    "# Random "
   ]
  },
  {
   "cell_type": "code",
   "execution_count": 37,
   "id": "37a6d77c-888e-4b0b-b724-6fef83c014b9",
   "metadata": {},
   "outputs": [
    {
     "name": "stdout",
     "output_type": "stream",
     "text": [
      "22\n"
     ]
    }
   ],
   "source": [
    "print(np.random.randint(1,30))"
   ]
  },
  {
   "cell_type": "code",
   "execution_count": 39,
   "id": "55fa7259-3bb8-4044-92a4-dcafac5abb63",
   "metadata": {},
   "outputs": [
    {
     "name": "stdout",
     "output_type": "stream",
     "text": [
      "[[ 5  5  7]\n",
      " [14  6 21]]\n"
     ]
    }
   ],
   "source": [
    "print(np.random.randint(1,30,(2,3))) #same print(np.random.randint((1,30(2,3,2)))---3D"
   ]
  },
  {
   "cell_type": "code",
   "execution_count": 40,
   "id": "4daf3044-10a4-491b-8b31-d66cd9f68117",
   "metadata": {},
   "outputs": [
    {
     "name": "stdout",
     "output_type": "stream",
     "text": [
      "0.6220643885247128\n"
     ]
    }
   ],
   "source": [
    "print(np.random.rand()) # 0-1"
   ]
  },
  {
   "cell_type": "code",
   "execution_count": 41,
   "id": "af2962b0-e867-474b-9597-35ac68cb0f67",
   "metadata": {},
   "outputs": [
    {
     "name": "stdout",
     "output_type": "stream",
     "text": [
      "29.059729016813442\n"
     ]
    }
   ],
   "source": [
    "print(np.random.uniform(1,30)) # floatno btw 1---30"
   ]
  },
  {
   "cell_type": "code",
   "execution_count": 42,
   "id": "55cd2039-7595-40d5-b31c-d03f56e3e15f",
   "metadata": {},
   "outputs": [
    {
     "name": "stdout",
     "output_type": "stream",
     "text": [
      "[[21.93645214 21.09357089  7.66564077]\n",
      " [ 4.23523299 28.25534606 10.01825251]]\n"
     ]
    }
   ],
   "source": [
    "print(np.random.uniform(1,30,(2,3)))"
   ]
  },
  {
   "cell_type": "code",
   "execution_count": 48,
   "id": "95828693-0f7b-4870-84a7-52b869db38c4",
   "metadata": {},
   "outputs": [
    {
     "name": "stdout",
     "output_type": "stream",
     "text": [
      "20\n",
      "[20 30 30]\n",
      "[[50 40 30]\n",
      " [20 50 50]]\n"
     ]
    }
   ],
   "source": [
    "a=np.array([10,20,30,40,50])\n",
    "print(np.random.choice(a))\n",
    "print(np.random.choice(a,3))\n",
    "print(np.random.choice(a,(2,3)))"
   ]
  },
  {
   "cell_type": "code",
   "execution_count": null,
   "id": "e7e4bca6-7550-445f-982f-43f14463c03d",
   "metadata": {},
   "outputs": [],
   "source": []
  }
 ],
 "metadata": {
  "kernelspec": {
   "display_name": "Python 3 (ipykernel)",
   "language": "python",
   "name": "python3"
  },
  "language_info": {
   "codemirror_mode": {
    "name": "ipython",
    "version": 3
   },
   "file_extension": ".py",
   "mimetype": "text/x-python",
   "name": "python",
   "nbconvert_exporter": "python",
   "pygments_lexer": "ipython3",
   "version": "3.12.5"
  }
 },
 "nbformat": 4,
 "nbformat_minor": 5
}
